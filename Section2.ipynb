{
 "cells": [
  {
   "cell_type": "code",
   "execution_count": 1,
   "metadata": {
    "ExecuteTime": {
     "end_time": "2019-07-29T08:38:30.197932Z",
     "start_time": "2019-07-29T08:38:30.190198Z"
    }
   },
   "outputs": [],
   "source": [
    "def lcm(x, y):\n",
    "    '''\n",
    "    find the least common multiple for x and y\n",
    "    '''\n",
    "    greater = x if x > y else y\n",
    "    while(True):\n",
    "        if((greater % x == 0) and (greater % y == 0)):\n",
    "            lcm = greater\n",
    "            break\n",
    "        greater += 1\n",
    "    return lcm"
   ]
  },
  {
   "cell_type": "code",
   "execution_count": 46,
   "metadata": {
    "ExecuteTime": {
     "end_time": "2019-07-29T09:04:07.518604Z",
     "start_time": "2019-07-29T09:04:07.506175Z"
    }
   },
   "outputs": [],
   "source": [
    "def get_num_of_step(a, b, n):\n",
    "    if max(a, b) > n:\n",
    "        return -1;\n",
    "    # assign the smaller one to b\n",
    "    if a < b:\n",
    "        a, b = b, a\n",
    "        \n",
    "    l = list()\n",
    "    cm = lcm(a, b)\n",
    "    i = -1 * cm / b\n",
    "    while (a * i <= n + cm):\n",
    "        if (n - (a * i)) % b == 0:\n",
    "            l.append([i,(n - (a * i)) / b])\n",
    "        i += 1\n",
    "        \n",
    "    res = -1\n",
    "    \n",
    "    for i in range(len(l)):\n",
    "        for j in range(i, len(l)):\n",
    "            if(abs(l[i][0] - l[j][1]) % 2 == 0 and abs(l[i][1] - l[j][0]) %2 == 0):\n",
    "                tmp = max( abs(l[i][0]), abs(l[j][1])) + max(abs(l[i][1]), abs(l[j][0]))\n",
    "                if res == -1:\n",
    "                    res = tmp\n",
    "                else:\n",
    "                    res = min(tmp, res)\n",
    "    return res"
   ]
  },
  {
   "cell_type": "code",
   "execution_count": 47,
   "metadata": {
    "ExecuteTime": {
     "end_time": "2019-07-29T09:04:08.158607Z",
     "start_time": "2019-07-29T09:04:08.150779Z"
    }
   },
   "outputs": [
    {
     "data": {
      "text/plain": [
       "1.0"
      ]
     },
     "execution_count": 47,
     "metadata": {},
     "output_type": "execute_result"
    }
   ],
   "source": [
    "get_num_of_step(2,2, 2)"
   ]
  },
  {
   "cell_type": "code",
   "execution_count": 53,
   "metadata": {
    "ExecuteTime": {
     "end_time": "2019-07-29T09:08:06.430369Z",
     "start_time": "2019-07-29T09:08:06.424612Z"
    }
   },
   "outputs": [],
   "source": [
    "def calMoves(n):\n",
    "    a = 1\n",
    "    b = 0\n",
    "    moves = 0\n",
    "    while a < n:\n",
    "        b = a\n",
    "        while b < n:\n",
    "            temp = get_num_of_step(a, b, n - 1) \n",
    "            if temp != -1:\n",
    "                moves += temp\n",
    "            b += 1\n",
    "        a += 1\n",
    "    return moves"
   ]
  },
  {
   "cell_type": "code",
   "execution_count": 60,
   "metadata": {
    "ExecuteTime": {
     "end_time": "2019-07-29T09:09:21.938428Z",
     "start_time": "2019-07-29T09:09:21.932053Z"
    }
   },
   "outputs": [],
   "source": [
    "def calReach(n):\n",
    "    a = 1\n",
    "    b = 0\n",
    "    counts = 0\n",
    "    totals = 0\n",
    "    while a < n:\n",
    "        b = a\n",
    "        while b < n:\n",
    "            temp = get_num_of_step(a, b, n - 1) \n",
    "            if temp != -1:\n",
    "                counts += 1\n",
    "            totals += 1\n",
    "            b += 1\n",
    "        a += 1\n",
    "    return totals,counts"
   ]
  },
  {
   "cell_type": "code",
   "execution_count": 61,
   "metadata": {
    "ExecuteTime": {
     "end_time": "2019-07-29T09:09:22.764695Z",
     "start_time": "2019-07-29T09:09:22.753279Z"
    }
   },
   "outputs": [
    {
     "data": {
      "text/plain": [
       "4.0"
      ]
     },
     "execution_count": 61,
     "metadata": {},
     "output_type": "execute_result"
    }
   ],
   "source": [
    "get_num_of_step(1, 2, 5 - 1)"
   ]
  },
  {
   "cell_type": "markdown",
   "metadata": {},
   "source": [
    "### For n=5, what is the sum of the number of moves for the shortest paths for all knights with a<=b?"
   ]
  },
  {
   "cell_type": "code",
   "execution_count": 62,
   "metadata": {
    "ExecuteTime": {
     "end_time": "2019-07-29T09:09:23.807843Z",
     "start_time": "2019-07-29T09:09:23.799293Z"
    }
   },
   "outputs": [
    {
     "data": {
      "text/plain": [
       "37.0"
      ]
     },
     "execution_count": 62,
     "metadata": {},
     "output_type": "execute_result"
    }
   ],
   "source": [
    "calMoves(5)"
   ]
  },
  {
   "cell_type": "code",
   "execution_count": 63,
   "metadata": {
    "ExecuteTime": {
     "end_time": "2019-07-29T09:09:24.311946Z",
     "start_time": "2019-07-29T09:09:24.305001Z"
    }
   },
   "outputs": [
    {
     "data": {
      "text/plain": [
       "(10, 9)"
      ]
     },
     "execution_count": 63,
     "metadata": {},
     "output_type": "execute_result"
    }
   ],
   "source": [
    "calReach(5)"
   ]
  },
  {
   "cell_type": "markdown",
   "metadata": {},
   "source": [
    "### For n=5, how many knights with 0<a<=b cannot reach (4,4)?"
   ]
  },
  {
   "cell_type": "code",
   "execution_count": 76,
   "metadata": {
    "ExecuteTime": {
     "end_time": "2019-07-29T09:13:55.249990Z",
     "start_time": "2019-07-29T09:13:55.242761Z"
    }
   },
   "outputs": [
    {
     "data": {
      "text/plain": [
       "(10, 9)"
      ]
     },
     "execution_count": 76,
     "metadata": {},
     "output_type": "execute_result"
    }
   ],
   "source": [
    "calReach(5)"
   ]
  },
  {
   "cell_type": "markdown",
   "metadata": {},
   "source": [
    "### For n=25, how many knights with 0<a<=b cannot reach (24,24)?"
   ]
  },
  {
   "cell_type": "code",
   "execution_count": 65,
   "metadata": {
    "ExecuteTime": {
     "end_time": "2019-07-29T09:09:36.187165Z",
     "start_time": "2019-07-29T09:09:36.153612Z"
    }
   },
   "outputs": [
    {
     "data": {
      "text/plain": [
       "(300, 273)"
      ]
     },
     "execution_count": 65,
     "metadata": {},
     "output_type": "execute_result"
    }
   ],
   "source": [
    "calReach(25)"
   ]
  },
  {
   "cell_type": "code",
   "execution_count": 75,
   "metadata": {
    "ExecuteTime": {
     "end_time": "2019-07-29T09:12:16.139424Z",
     "start_time": "2019-07-29T09:12:16.128957Z"
    }
   },
   "outputs": [
    {
     "data": {
      "text/plain": [
       "12.0"
      ]
     },
     "execution_count": 75,
     "metadata": {},
     "output_type": "execute_result"
    }
   ],
   "source": [
    "get_num_of_step(4, 7, 24)"
   ]
  },
  {
   "cell_type": "markdown",
   "metadata": {},
   "source": [
    "### For n=25, what is the sum of the number of moves for the shortest paths for all knights with a<=b?"
   ]
  },
  {
   "cell_type": "code",
   "execution_count": 71,
   "metadata": {
    "ExecuteTime": {
     "end_time": "2019-07-29T09:10:25.900692Z",
     "start_time": "2019-07-29T09:10:25.868629Z"
    }
   },
   "outputs": [
    {
     "data": {
      "text/plain": [
       "3709.0"
      ]
     },
     "execution_count": 71,
     "metadata": {},
     "output_type": "execute_result"
    }
   ],
   "source": [
    "calMoves(25)"
   ]
  },
  {
   "cell_type": "code",
   "execution_count": 72,
   "metadata": {
    "ExecuteTime": {
     "end_time": "2019-07-29T09:10:37.294020Z",
     "start_time": "2019-07-29T09:10:37.284956Z"
    }
   },
   "outputs": [
    {
     "data": {
      "text/plain": [
       "67.0"
      ]
     },
     "execution_count": 72,
     "metadata": {},
     "output_type": "execute_result"
    }
   ],
   "source": [
    "get_num_of_step(13, 23, 1000 - 1)"
   ]
  },
  {
   "cell_type": "code",
   "execution_count": 73,
   "metadata": {
    "ExecuteTime": {
     "end_time": "2019-07-29T09:10:42.484621Z",
     "start_time": "2019-07-29T09:10:42.477479Z"
    }
   },
   "outputs": [
    {
     "data": {
      "text/plain": [
       "127.0"
      ]
     },
     "execution_count": 73,
     "metadata": {},
     "output_type": "execute_result"
    }
   ],
   "source": [
    "get_num_of_step(73, 101, 10000 - 1)"
   ]
  },
  {
   "cell_type": "code",
   "execution_count": null,
   "metadata": {},
   "outputs": [],
   "source": []
  }
 ],
 "metadata": {
  "kernelspec": {
   "display_name": "Python 3",
   "language": "python",
   "name": "python3"
  },
  "language_info": {
   "codemirror_mode": {
    "name": "ipython",
    "version": 3
   },
   "file_extension": ".py",
   "mimetype": "text/x-python",
   "name": "python",
   "nbconvert_exporter": "python",
   "pygments_lexer": "ipython3",
   "version": "3.7.3"
  },
  "toc": {
   "base_numbering": 1,
   "nav_menu": {},
   "number_sections": true,
   "sideBar": true,
   "skip_h1_title": false,
   "title_cell": "Table of Contents",
   "title_sidebar": "Contents",
   "toc_cell": false,
   "toc_position": {},
   "toc_section_display": true,
   "toc_window_display": false
  },
  "varInspector": {
   "cols": {
    "lenName": 16,
    "lenType": 16,
    "lenVar": 40
   },
   "kernels_config": {
    "python": {
     "delete_cmd_postfix": "",
     "delete_cmd_prefix": "del ",
     "library": "var_list.py",
     "varRefreshCmd": "print(var_dic_list())"
    },
    "r": {
     "delete_cmd_postfix": ") ",
     "delete_cmd_prefix": "rm(",
     "library": "var_list.r",
     "varRefreshCmd": "cat(var_dic_list()) "
    }
   },
   "types_to_exclude": [
    "module",
    "function",
    "builtin_function_or_method",
    "instance",
    "_Feature"
   ],
   "window_display": false
  }
 },
 "nbformat": 4,
 "nbformat_minor": 2
}
