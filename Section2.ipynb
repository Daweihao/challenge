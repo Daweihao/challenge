{
 "cells": [
  {
   "cell_type": "code",
   "execution_count": 1,
   "metadata": {
    "ExecuteTime": {
     "end_time": "2019-07-27T09:09:06.508197Z",
     "start_time": "2019-07-27T09:09:06.500553Z"
    }
   },
   "outputs": [],
   "source": [
    "def lcm(x, y):\n",
    "    '''\n",
    "    find the least common multiple for x and y\n",
    "    '''\n",
    "    greater = x if x > y else y\n",
    "    while(True):\n",
    "        if((greater % x == 0) and (greater % y == 0)):\n",
    "            lcm = greater\n",
    "            break\n",
    "        greater += 1\n",
    "    return lcm"
   ]
  },
  {
   "cell_type": "code",
   "execution_count": 15,
   "metadata": {
    "ExecuteTime": {
     "end_time": "2019-07-27T09:26:57.145737Z",
     "start_time": "2019-07-27T09:26:57.127649Z"
    }
   },
   "outputs": [],
   "source": [
    "def get_num_of_step(a, b, n):\n",
    "    if max(a, b) > n:\n",
    "        return -1;\n",
    "    # assign the smaller one to b\n",
    "    if a < b:\n",
    "        a, b = b, a\n",
    "        \n",
    "    l = list()\n",
    "    cm = lcm(a, b)\n",
    "    i = -1 * cm / b\n",
    "    while (a * i <= n + cm):\n",
    "        if (n - (a * i)) % b == 0:\n",
    "            l.append([i,(n - (a * i)) / b])\n",
    "        i += 1\n",
    "        \n",
    "    res = -1\n",
    "    \n",
    "    for i in range(len(l)):\n",
    "        for j in range(i, len(l)):\n",
    "            if(abs(l[i][0] - l[j][1]) % 2 == 0 and abs(l[i][1] - l[j][0]) %2 == 0):\n",
    "                tmp = max( abs(l[i][0]), abs(l[j][1])) + max(abs(l[i][1]), abs(l[j][0]))\n",
    "                if res == -1:\n",
    "                    res = tmp\n",
    "                else:\n",
    "                    res = min(tmp, res)\n",
    "    return res"
   ]
  },
  {
   "cell_type": "code",
   "execution_count": 21,
   "metadata": {
    "ExecuteTime": {
     "end_time": "2019-07-27T09:36:14.974441Z",
     "start_time": "2019-07-27T09:36:14.966600Z"
    }
   },
   "outputs": [],
   "source": [
    "def calMoves(n):\n",
    "    a = 1\n",
    "    b = 0\n",
    "    moves = 0\n",
    "    while a <= 5:\n",
    "        b = a\n",
    "        while b <= 5:\n",
    "            temp = get_num_of_step(a, b, n) \n",
    "            if temp != -1:\n",
    "                moves += temp\n",
    "            b += 1\n",
    "        a += 1\n",
    "    return moves"
   ]
  },
  {
   "cell_type": "code",
   "execution_count": 19,
   "metadata": {
    "ExecuteTime": {
     "end_time": "2019-07-27T09:35:12.954537Z",
     "start_time": "2019-07-27T09:35:12.947850Z"
    }
   },
   "outputs": [
    {
     "data": {
      "text/plain": [
       "4.0"
      ]
     },
     "execution_count": 19,
     "metadata": {},
     "output_type": "execute_result"
    }
   ],
   "source": [
    "get_num_of_step(1, 2, 5)"
   ]
  },
  {
   "cell_type": "markdown",
   "metadata": {},
   "source": [
    "### For n=5, what is the sum of the number of moves for the shortest paths for all knights with a<=b?"
   ]
  },
  {
   "cell_type": "code",
   "execution_count": 22,
   "metadata": {
    "ExecuteTime": {
     "end_time": "2019-07-27T09:36:25.262764Z",
     "start_time": "2019-07-27T09:36:25.255253Z"
    }
   },
   "outputs": [
    {
     "data": {
      "text/plain": [
       "55.0"
      ]
     },
     "execution_count": 22,
     "metadata": {},
     "output_type": "execute_result"
    }
   ],
   "source": [
    "calMoves(5)"
   ]
  },
  {
   "cell_type": "markdown",
   "metadata": {},
   "source": [
    "### For n=25, how many knights with 0<a<=b cannot reach (24,24)?"
   ]
  },
  {
   "cell_type": "code",
   "execution_count": null,
   "metadata": {},
   "outputs": [],
   "source": []
  },
  {
   "cell_type": "code",
   "execution_count": 17,
   "metadata": {
    "ExecuteTime": {
     "end_time": "2019-07-27T09:29:43.177328Z",
     "start_time": "2019-07-27T09:29:43.170739Z"
    }
   },
   "outputs": [
    {
     "data": {
      "text/plain": [
       "6.0"
      ]
     },
     "execution_count": 17,
     "metadata": {},
     "output_type": "execute_result"
    }
   ],
   "source": [
    "get_num_of_step(4, 7, 25)"
   ]
  },
  {
   "cell_type": "markdown",
   "metadata": {},
   "source": [
    "### For n=25, what is the sum of the number of moves for the shortest paths for all knights with a<=b?"
   ]
  },
  {
   "cell_type": "code",
   "execution_count": 23,
   "metadata": {
    "ExecuteTime": {
     "end_time": "2019-07-27T09:37:35.178226Z",
     "start_time": "2019-07-27T09:37:35.168664Z"
    }
   },
   "outputs": [
    {
     "data": {
      "text/plain": [
       "125.0"
      ]
     },
     "execution_count": 23,
     "metadata": {},
     "output_type": "execute_result"
    }
   ],
   "source": [
    "calMoves(25)"
   ]
  },
  {
   "cell_type": "code",
   "execution_count": 25,
   "metadata": {
    "ExecuteTime": {
     "end_time": "2019-07-27T09:42:40.226098Z",
     "start_time": "2019-07-27T09:42:40.217307Z"
    }
   },
   "outputs": [
    {
     "data": {
      "text/plain": [
       "70.0"
      ]
     },
     "execution_count": 25,
     "metadata": {},
     "output_type": "execute_result"
    }
   ],
   "source": [
    "get_num_of_step(13, 23, 1000)"
   ]
  },
  {
   "cell_type": "code",
   "execution_count": 24,
   "metadata": {
    "ExecuteTime": {
     "end_time": "2019-07-27T09:41:51.923486Z",
     "start_time": "2019-07-27T09:41:51.913028Z"
    }
   },
   "outputs": [
    {
     "data": {
      "text/plain": [
       "172.0"
      ]
     },
     "execution_count": 24,
     "metadata": {},
     "output_type": "execute_result"
    }
   ],
   "source": [
    "get_num_of_step(73, 101, 10000)"
   ]
  },
  {
   "cell_type": "code",
   "execution_count": null,
   "metadata": {},
   "outputs": [],
   "source": []
  }
 ],
 "metadata": {
  "kernelspec": {
   "display_name": "Python 3",
   "language": "python",
   "name": "python3"
  },
  "language_info": {
   "codemirror_mode": {
    "name": "ipython",
    "version": 3
   },
   "file_extension": ".py",
   "mimetype": "text/x-python",
   "name": "python",
   "nbconvert_exporter": "python",
   "pygments_lexer": "ipython3",
   "version": "3.7.3"
  },
  "toc": {
   "base_numbering": 1,
   "nav_menu": {},
   "number_sections": true,
   "sideBar": true,
   "skip_h1_title": false,
   "title_cell": "Table of Contents",
   "title_sidebar": "Contents",
   "toc_cell": false,
   "toc_position": {},
   "toc_section_display": true,
   "toc_window_display": false
  },
  "varInspector": {
   "cols": {
    "lenName": 16,
    "lenType": 16,
    "lenVar": 40
   },
   "kernels_config": {
    "python": {
     "delete_cmd_postfix": "",
     "delete_cmd_prefix": "del ",
     "library": "var_list.py",
     "varRefreshCmd": "print(var_dic_list())"
    },
    "r": {
     "delete_cmd_postfix": ") ",
     "delete_cmd_prefix": "rm(",
     "library": "var_list.r",
     "varRefreshCmd": "cat(var_dic_list()) "
    }
   },
   "types_to_exclude": [
    "module",
    "function",
    "builtin_function_or_method",
    "instance",
    "_Feature"
   ],
   "window_display": false
  }
 },
 "nbformat": 4,
 "nbformat_minor": 2
}
